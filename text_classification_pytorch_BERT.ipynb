{
  "nbformat": 4,
  "nbformat_minor": 0,
  "metadata": {
    "colab": {
      "name": "text_classification_pytorch_BERT.ipynb",
      "provenance": [],
      "mount_file_id": "1DBr_UpKLGiaEr3JZIhXlMYxC-9XAqoC1",
      "authorship_tag": "ABX9TyNPjqdltrl7ru5sD3O8tOwB",
      "include_colab_link": true
    },
    "kernelspec": {
      "name": "python3",
      "display_name": "Python 3"
    },
    "accelerator": "GPU"
  },
  "cells": [
    {
      "cell_type": "markdown",
      "metadata": {
        "id": "view-in-github",
        "colab_type": "text"
      },
      "source": [
        "<a href=\"https://colab.research.google.com/github/SPThole/Sidhant_Thole/blob/master/text_classification_pytorch_BERT.ipynb\" target=\"_parent\"><img src=\"https://colab.research.google.com/assets/colab-badge.svg\" alt=\"Open In Colab\"/></a>"
      ]
    },
    {
      "cell_type": "code",
      "metadata": {
        "id": "pBBxIpYDxcMi",
        "outputId": "176e005a-70e5-4efa-848b-b0a00f3d4031",
        "colab": {
          "base_uri": "https://localhost:8080/",
          "height": 356
        }
      },
      "source": [
        "!pip install transformers"
      ],
      "execution_count": 1,
      "outputs": [
        {
          "output_type": "stream",
          "text": [
            "Requirement already satisfied: transformers in /usr/local/lib/python3.6/dist-packages (3.3.1)\n",
            "Requirement already satisfied: sacremoses in /usr/local/lib/python3.6/dist-packages (from transformers) (0.0.43)\n",
            "Requirement already satisfied: tokenizers==0.8.1.rc2 in /usr/local/lib/python3.6/dist-packages (from transformers) (0.8.1rc2)\n",
            "Requirement already satisfied: dataclasses; python_version < \"3.7\" in /usr/local/lib/python3.6/dist-packages (from transformers) (0.7)\n",
            "Requirement already satisfied: requests in /usr/local/lib/python3.6/dist-packages (from transformers) (2.23.0)\n",
            "Requirement already satisfied: numpy in /usr/local/lib/python3.6/dist-packages (from transformers) (1.18.5)\n",
            "Requirement already satisfied: sentencepiece!=0.1.92 in /usr/local/lib/python3.6/dist-packages (from transformers) (0.1.91)\n",
            "Requirement already satisfied: regex!=2019.12.17 in /usr/local/lib/python3.6/dist-packages (from transformers) (2019.12.20)\n",
            "Requirement already satisfied: tqdm>=4.27 in /usr/local/lib/python3.6/dist-packages (from transformers) (4.41.1)\n",
            "Requirement already satisfied: filelock in /usr/local/lib/python3.6/dist-packages (from transformers) (3.0.12)\n",
            "Requirement already satisfied: packaging in /usr/local/lib/python3.6/dist-packages (from transformers) (20.4)\n",
            "Requirement already satisfied: joblib in /usr/local/lib/python3.6/dist-packages (from sacremoses->transformers) (0.16.0)\n",
            "Requirement already satisfied: six in /usr/local/lib/python3.6/dist-packages (from sacremoses->transformers) (1.15.0)\n",
            "Requirement already satisfied: click in /usr/local/lib/python3.6/dist-packages (from sacremoses->transformers) (7.1.2)\n",
            "Requirement already satisfied: idna<3,>=2.5 in /usr/local/lib/python3.6/dist-packages (from requests->transformers) (2.10)\n",
            "Requirement already satisfied: urllib3!=1.25.0,!=1.25.1,<1.26,>=1.21.1 in /usr/local/lib/python3.6/dist-packages (from requests->transformers) (1.24.3)\n",
            "Requirement already satisfied: chardet<4,>=3.0.2 in /usr/local/lib/python3.6/dist-packages (from requests->transformers) (3.0.4)\n",
            "Requirement already satisfied: certifi>=2017.4.17 in /usr/local/lib/python3.6/dist-packages (from requests->transformers) (2020.6.20)\n",
            "Requirement already satisfied: pyparsing>=2.0.2 in /usr/local/lib/python3.6/dist-packages (from packaging->transformers) (2.4.7)\n"
          ],
          "name": "stdout"
        }
      ]
    },
    {
      "cell_type": "code",
      "metadata": {
        "id": "MMVuMkp0ouFz"
      },
      "source": [
        "import pandas as pd\n",
        "import numpy as np\n",
        "import torch\n",
        "import transformers\n",
        "from torch.utils.data import Dataset,DataLoader\n",
        "import matplotlib.pyplot as plt\n",
        "import torchtext\n",
        "import zipfile\n",
        "import os\n",
        "from transformers import BertTokenizer as BT\n",
        "from sklearn.model_selection import train_test_split\n",
        "import warnings\n",
        "import torch.nn as nn\n",
        "warnings.filterwarnings(\"ignore\")\n",
        "%matplotlib inline"
      ],
      "execution_count": 2,
      "outputs": []
    },
    {
      "cell_type": "markdown",
      "metadata": {
        "id": "_SnE4G-RpGUI"
      },
      "source": [
        "# Plan of Action\n",
        "1. Import the dataset\n",
        "- may be by link\n",
        "- readable format\n",
        "2. Write the dataset class\n",
        "- embeddings\n",
        "3. write dataloader\n",
        "- batch sizes\n",
        "5. write model architechture\n",
        "- transformers transfer learning\n",
        "6. Write helper funcs for acc\n",
        "- trainign accuracy, validation accuracy\n",
        "7. training function\n",
        "- print history\n",
        "8. prediction\n",
        "- test inputs\n",
        "9. deep dive"
      ]
    },
    {
      "cell_type": "code",
      "metadata": {
        "id": "1FUF63kDpKG8",
        "outputId": "d09cd8f5-2073-4716-ec1a-14337fd04671",
        "colab": {
          "base_uri": "https://localhost:8080/",
          "height": 34
        }
      },
      "source": [
        "device = torch.device('cuda') if torch.cuda.is_available() else torch.device('cpu')\n",
        "print(device)"
      ],
      "execution_count": 3,
      "outputs": [
        {
          "output_type": "stream",
          "text": [
            "cuda\n"
          ],
          "name": "stdout"
        }
      ]
    },
    {
      "cell_type": "code",
      "metadata": {
        "id": "pQPepcpitwtM"
      },
      "source": [
        "data = pd.read_csv('/content/drive/My Drive/reviews.csv')"
      ],
      "execution_count": 4,
      "outputs": []
    },
    {
      "cell_type": "code",
      "metadata": {
        "id": "oHXn2fBht89A",
        "outputId": "c744e126-437d-49dd-a39f-2dc06a19083e",
        "colab": {
          "base_uri": "https://localhost:8080/",
          "height": 294
        }
      },
      "source": [
        "data.head(2)"
      ],
      "execution_count": 5,
      "outputs": [
        {
          "output_type": "execute_result",
          "data": {
            "text/html": [
              "<div>\n",
              "<style scoped>\n",
              "    .dataframe tbody tr th:only-of-type {\n",
              "        vertical-align: middle;\n",
              "    }\n",
              "\n",
              "    .dataframe tbody tr th {\n",
              "        vertical-align: top;\n",
              "    }\n",
              "\n",
              "    .dataframe thead th {\n",
              "        text-align: right;\n",
              "    }\n",
              "</style>\n",
              "<table border=\"1\" class=\"dataframe\">\n",
              "  <thead>\n",
              "    <tr style=\"text-align: right;\">\n",
              "      <th></th>\n",
              "      <th>reviewId</th>\n",
              "      <th>userName</th>\n",
              "      <th>userImage</th>\n",
              "      <th>content</th>\n",
              "      <th>score</th>\n",
              "      <th>thumbsUpCount</th>\n",
              "      <th>reviewCreatedVersion</th>\n",
              "      <th>at</th>\n",
              "      <th>replyContent</th>\n",
              "      <th>repliedAt</th>\n",
              "      <th>sortOrder</th>\n",
              "      <th>appId</th>\n",
              "    </tr>\n",
              "  </thead>\n",
              "  <tbody>\n",
              "    <tr>\n",
              "      <th>0</th>\n",
              "      <td>gp:AOqpTOH9y0mrXUuqulfB_d48QIXYJet79OMMr8jzm85...</td>\n",
              "      <td>John Oswald-Jacobs</td>\n",
              "      <td>https://play-lh.googleusercontent.com/-jB1fuDT...</td>\n",
              "      <td>Hopeless customer service. I paid for the prem...</td>\n",
              "      <td>1</td>\n",
              "      <td>46</td>\n",
              "      <td>5.6.0.1</td>\n",
              "      <td>2020-09-26 07:30:52</td>\n",
              "      <td>Sorry for the delay in reply! Due to adjusted ...</td>\n",
              "      <td>2020-09-27 10:50:27</td>\n",
              "      <td>most_relevant</td>\n",
              "      <td>com.anydo</td>\n",
              "    </tr>\n",
              "    <tr>\n",
              "      <th>1</th>\n",
              "      <td>gp:AOqpTOHNHm4OfbjkxEXXa51JwZEHAaDlvfSgN0OU256...</td>\n",
              "      <td>Lex S</td>\n",
              "      <td>https://play-lh.googleusercontent.com/-FgDpDeE...</td>\n",
              "      <td>I love this app, but I do have one major gripe...</td>\n",
              "      <td>1</td>\n",
              "      <td>124</td>\n",
              "      <td>5.2.0.23</td>\n",
              "      <td>2020-08-05 16:22:04</td>\n",
              "      <td>We ensured that Any.do would be fairly priced,...</td>\n",
              "      <td>2020-08-10 07:41:21</td>\n",
              "      <td>most_relevant</td>\n",
              "      <td>com.anydo</td>\n",
              "    </tr>\n",
              "  </tbody>\n",
              "</table>\n",
              "</div>"
            ],
            "text/plain": [
              "                                            reviewId  ...      appId\n",
              "0  gp:AOqpTOH9y0mrXUuqulfB_d48QIXYJet79OMMr8jzm85...  ...  com.anydo\n",
              "1  gp:AOqpTOHNHm4OfbjkxEXXa51JwZEHAaDlvfSgN0OU256...  ...  com.anydo\n",
              "\n",
              "[2 rows x 12 columns]"
            ]
          },
          "metadata": {
            "tags": []
          },
          "execution_count": 5
        }
      ]
    },
    {
      "cell_type": "code",
      "metadata": {
        "id": "JsJ-_HIB2UNo"
      },
      "source": [
        "data = data[['content','score']]"
      ],
      "execution_count": 6,
      "outputs": []
    },
    {
      "cell_type": "code",
      "metadata": {
        "id": "9SpM4Y8WH2f-"
      },
      "source": [
        "bins = [0.,2.,3.,5.]\n",
        "labels = [0,1,2]\n",
        "data['sentiment'] = pd.cut(data['score'], bins=bins, labels=labels)"
      ],
      "execution_count": 7,
      "outputs": []
    },
    {
      "cell_type": "code",
      "metadata": {
        "id": "1W48Q8LtH3vC",
        "outputId": "b773f86a-2f5b-47b2-c68f-e90f37aeb1fa",
        "colab": {
          "base_uri": "https://localhost:8080/",
          "height": 297
        }
      },
      "source": [
        "import seaborn as sns\n",
        "sns.countplot(data['sentiment'])"
      ],
      "execution_count": 8,
      "outputs": [
        {
          "output_type": "execute_result",
          "data": {
            "text/plain": [
              "<matplotlib.axes._subplots.AxesSubplot at 0x7f91bf3bfa58>"
            ]
          },
          "metadata": {
            "tags": []
          },
          "execution_count": 8
        },
        {
          "output_type": "display_data",
          "data": {
            "image/png": "[encoded data removed]",
            "text/plain": [
              "<Figure size 432x288 with 1 Axes>"
            ]
          },
          "metadata": {
            "tags": [],
            "needs_background": "light"
          }
        }
      ]
    },
    {
      "cell_type": "code",
      "metadata": {
        "id": "meQBl0eNI-LX"
      },
      "source": [
        "text = 'well, I just like that anyway'"
      ],
      "execution_count": 9,
      "outputs": []
    },
    {
      "cell_type": "code",
      "metadata": {
        "id": "sXDqfHuULFhB"
      },
      "source": [
        "tokenizer_name = 'bert-base-uncased'\n",
        "tokenizer = BT.from_pretrained(tokenizer_name)"
      ],
      "execution_count": 10,
      "outputs": []
    },
    {
      "cell_type": "code",
      "metadata": {
        "id": "SesY3KxxLumj",
        "outputId": "64ce9c04-3777-4748-b17e-5e9932c6575a",
        "colab": {
          "base_uri": "https://localhost:8080/",
          "height": 50
        }
      },
      "source": [
        "tokens_txt = tokenizer.tokenize(text)\n",
        "print(f'tokens are {tokens_txt}')\n",
        "tokens_ids = tokenizer.convert_tokens_to_ids(tokens_txt)\n",
        "print(f'ids for above tokens are {tokens_ids}')"
      ],
      "execution_count": 11,
      "outputs": [
        {
          "output_type": "stream",
          "text": [
            "tokens are ['well', ',', 'i', 'just', 'like', 'that', 'anyway']\n",
            "ids for above tokens are [2092, 1010, 1045, 2074, 2066, 2008, 4312]\n"
          ],
          "name": "stdout"
        }
      ]
    },
    {
      "cell_type": "code",
      "metadata": {
        "id": "-XCCtVhnL0YS"
      },
      "source": [
        "encoding = tokenizer.encode_plus(\n",
        "    text = text,\n",
        "    max_length = 30,\n",
        "    truncation = True,\n",
        "    add_special_tokens = True,\n",
        "    pad_to_max_length = True,\n",
        "    return_attention_mask=True,\n",
        "    return_tensors ='pt'\n",
        ")"
      ],
      "execution_count": 12,
      "outputs": []
    },
    {
      "cell_type": "code",
      "metadata": {
        "id": "pGLHl06tL9ov",
        "outputId": "aeb57db6-d783-45c3-aa6d-d3e3648396c1",
        "colab": {
          "base_uri": "https://localhost:8080/",
          "height": 34
        }
      },
      "source": [
        "type(encoding)"
      ],
      "execution_count": 13,
      "outputs": [
        {
          "output_type": "execute_result",
          "data": {
            "text/plain": [
              "transformers.tokenization_utils_base.BatchEncoding"
            ]
          },
          "metadata": {
            "tags": []
          },
          "execution_count": 13
        }
      ]
    },
    {
      "cell_type": "code",
      "metadata": {
        "id": "2afq7CthOrCZ",
        "outputId": "a80f3309-1443-487a-9369-1597a15d01ee",
        "colab": {
          "base_uri": "https://localhost:8080/",
          "height": 34
        }
      },
      "source": [
        "encoding.keys()"
      ],
      "execution_count": 14,
      "outputs": [
        {
          "output_type": "execute_result",
          "data": {
            "text/plain": [
              "dict_keys(['input_ids', 'token_type_ids', 'attention_mask'])"
            ]
          },
          "metadata": {
            "tags": []
          },
          "execution_count": 14
        }
      ]
    },
    {
      "cell_type": "code",
      "metadata": {
        "id": "SsxENPjUOxwH",
        "outputId": "546ff0d2-a3eb-4c0c-b1ec-4f3d352b3288",
        "colab": {
          "base_uri": "https://localhost:8080/",
          "height": 521
        }
      },
      "source": [
        "tokenizer.convert_ids_to_tokens(encoding['input_ids'][0])"
      ],
      "execution_count": 15,
      "outputs": [
        {
          "output_type": "execute_result",
          "data": {
            "text/plain": [
              "['[CLS]',\n",
              " 'well',\n",
              " ',',\n",
              " 'i',\n",
              " 'just',\n",
              " 'like',\n",
              " 'that',\n",
              " 'anyway',\n",
              " '[SEP]',\n",
              " '[PAD]',\n",
              " '[PAD]',\n",
              " '[PAD]',\n",
              " '[PAD]',\n",
              " '[PAD]',\n",
              " '[PAD]',\n",
              " '[PAD]',\n",
              " '[PAD]',\n",
              " '[PAD]',\n",
              " '[PAD]',\n",
              " '[PAD]',\n",
              " '[PAD]',\n",
              " '[PAD]',\n",
              " '[PAD]',\n",
              " '[PAD]',\n",
              " '[PAD]',\n",
              " '[PAD]',\n",
              " '[PAD]',\n",
              " '[PAD]',\n",
              " '[PAD]',\n",
              " '[PAD]']"
            ]
          },
          "metadata": {
            "tags": []
          },
          "execution_count": 15
        }
      ]
    },
    {
      "cell_type": "code",
      "metadata": {
        "id": "WrHOSeiXXsRm",
        "outputId": "24941cc2-190b-4c19-e554-c9dfcedcf4aa",
        "colab": {
          "base_uri": "https://localhost:8080/",
          "height": 34
        }
      },
      "source": [
        "torch.tensor([[2,3],[4,5]]).flatten()"
      ],
      "execution_count": 16,
      "outputs": [
        {
          "output_type": "execute_result",
          "data": {
            "text/plain": [
              "tensor([2, 3, 4, 5])"
            ]
          },
          "metadata": {
            "tags": []
          },
          "execution_count": 16
        }
      ]
    },
    {
      "cell_type": "code",
      "metadata": {
        "id": "kTWpYspbO2u4"
      },
      "source": [
        "class SentimentalData(Dataset):\n",
        "  def __init__(self, text_reviews, labels, max_len, tokenizer):\n",
        "    self.text = text_reviews\n",
        "    self.labels = labels\n",
        "    self.max_len = max_len\n",
        "    self.tokenizer = tokenizer\n",
        "\n",
        "  def __getitem__(self,idx):\n",
        "\n",
        "    text = self.text[idx]\n",
        "    labels = self.labels[idx]\n",
        "\n",
        "    encoder = self.tokenizer.encode_plus(\n",
        "        text = text,\n",
        "        truncation =True,\n",
        "        max_length = self.max_len,\n",
        "        add_special_tokens = True,\n",
        "        pad_to_max_length = True,\n",
        "        return_attention_mask=True,\n",
        "        return_tensors ='pt'\n",
        "        \n",
        "    )\n",
        "\n",
        "    result_dict = {\n",
        "        'text': text,\n",
        "        'token_to_ids':encoder['input_ids'].flatten(),\n",
        "        'token_mask':encoder['attention_mask'].flatten(),\n",
        "        'label': torch.tensor(labels,dtype=torch.long)\n",
        "    }\n",
        "\n",
        "    return result_dict\n",
        "\n",
        "  def __len__(self):\n",
        "    return len(self.text)\n",
        "\n",
        "\n"
      ],
      "execution_count": 17,
      "outputs": []
    },
    {
      "cell_type": "code",
      "metadata": {
        "id": "vfy4x-F_O_p9"
      },
      "source": [
        "X = data['content'].values\n",
        "y = data['sentiment'].values\n",
        "SEED = 2019\n",
        "\n",
        "X_train , X_test , y_train , y_test = train_test_split(X , y , test_size =0.2, random_state = SEED)\n",
        "\n",
        "X_val, X_test, y_val, y_test = train_test_split(X_test, y_test, test_size =0.2, random_state= SEED)\n",
        "\n"
      ],
      "execution_count": 18,
      "outputs": []
    },
    {
      "cell_type": "code",
      "metadata": {
        "id": "jngiqMMhZbFR"
      },
      "source": [
        "train_dataset = SentimentalData(X_train, y_train , 180, tokenizer)\n",
        "val_dataset = SentimentalData(X_val, y_val , 180, tokenizer)\n",
        "test_dataset = SentimentalData(X_test, y_test , 180, tokenizer)"
      ],
      "execution_count": 19,
      "outputs": []
    },
    {
      "cell_type": "code",
      "metadata": {
        "id": "4TOueno5basL"
      },
      "source": [
        "train_loader = DataLoader(train_dataset, batch_size= 32)\n",
        "val_loader = DataLoader(val_dataset, batch_size= 32)\n",
        "test_loader = DataLoader(test_dataset, batch_size= 32)"
      ],
      "execution_count": 20,
      "outputs": []
    },
    {
      "cell_type": "code",
      "metadata": {
        "id": "9faJbcB7dBBe",
        "outputId": "ac0e6372-2338-473e-9280-6b0d2c310edf",
        "colab": {
          "base_uri": "https://localhost:8080/",
          "height": 34
        }
      },
      "source": [
        "X_train.shape, X_val.shape, X_test.shape"
      ],
      "execution_count": 21,
      "outputs": [
        {
          "output_type": "execute_result",
          "data": {
            "text/plain": [
              "((12963,), (2592,), (649,))"
            ]
          },
          "metadata": {
            "tags": []
          },
          "execution_count": 21
        }
      ]
    },
    {
      "cell_type": "code",
      "metadata": {
        "id": "0xgKk5VSbfiX",
        "outputId": "b8d2fa24-cf13-4c9c-ac33-2f5584c380ad",
        "colab": {
          "base_uri": "https://localhost:8080/",
          "height": 34
        }
      },
      "source": [
        "next(iter(train_loader))['token_to_ids'].shape"
      ],
      "execution_count": 22,
      "outputs": [
        {
          "output_type": "execute_result",
          "data": {
            "text/plain": [
              "torch.Size([32, 180])"
            ]
          },
          "metadata": {
            "tags": []
          },
          "execution_count": 22
        }
      ]
    },
    {
      "cell_type": "code",
      "metadata": {
        "id": "Gvf323OucMjs"
      },
      "source": [
        "model = transformers.BertModel.from_pretrained('bert-base-uncased')"
      ],
      "execution_count": 23,
      "outputs": []
    },
    {
      "cell_type": "code",
      "metadata": {
        "id": "BkQMrLQChECR"
      },
      "source": [
        "last_hidden, output = model(encoding['input_ids'],encoding['attention_mask'])"
      ],
      "execution_count": 24,
      "outputs": []
    },
    {
      "cell_type": "code",
      "metadata": {
        "id": "X0C7MHWXhm24",
        "outputId": "3ab18634-3227-4db8-b23d-fdee541e3133",
        "colab": {
          "base_uri": "https://localhost:8080/",
          "height": 34
        }
      },
      "source": [
        "last_hidden.shape, output.shape"
      ],
      "execution_count": 25,
      "outputs": [
        {
          "output_type": "execute_result",
          "data": {
            "text/plain": [
              "(torch.Size([1, 30, 768]), torch.Size([1, 768]))"
            ]
          },
          "metadata": {
            "tags": []
          },
          "execution_count": 25
        }
      ]
    },
    {
      "cell_type": "code",
      "metadata": {
        "id": "7_NbVjH2inZ-"
      },
      "source": [
        "class SentimentalModel(nn.Module):\n",
        "  def __init__(self,pretrained_model,num_classes):\n",
        "    super(SentimentalModel,self).__init__()\n",
        "    self.pretrained_model = pretrained_model\n",
        "    self.tf_layer = nn.Linear(in_features = self.pretrained_model.config.hidden_size, out_features=num_classes)\n",
        "\n",
        "  def forward(self,input_ids,token_mask):\n",
        "    _, output = self.pretrained_model(\n",
        "        input_ids = input_ids,\n",
        "        attention_mask = token_mask,\n",
        "    )\n",
        "    output = self.tf_layer(output)\n",
        "    return output\n",
        "\n",
        "    \n"
      ],
      "execution_count": 26,
      "outputs": []
    },
    {
      "cell_type": "code",
      "metadata": {
        "id": "rsg6UN16m0G4"
      },
      "source": [
        "sentimental_model = SentimentalModel(model,3).to(device)"
      ],
      "execution_count": 28,
      "outputs": []
    },
    {
      "cell_type": "code",
      "metadata": {
        "id": "bDJav5NEnLdW"
      },
      "source": [
        "loss_func = nn.CrossEntropyLoss().to(device)"
      ],
      "execution_count": 36,
      "outputs": []
    },
    {
      "cell_type": "code",
      "metadata": {
        "id": "Qnhm__g4nggG"
      },
      "source": [
        "optimizer = torch.optim.AdamW(sentimental_model.parameters(),lr=0.001)"
      ],
      "execution_count": 37,
      "outputs": []
    },
    {
      "cell_type": "code",
      "metadata": {
        "id": "Mk-Gqgkzoua8"
      },
      "source": [
        ""
      ],
      "execution_count": 37,
      "outputs": []
    },
    {
      "cell_type": "code",
      "metadata": {
        "id": "TF44YQNDoYth"
      },
      "source": [
        "def accuracy_calc(labels, predictions):\n",
        "  _,pred_class = torch.max(predictions,dim=1)\n",
        "\n",
        "  correct_preds = torch.sum(labels==pred_class)\n",
        "\n",
        "  return correct_preds.item()/len(labels)\n",
        "\n",
        "\n",
        "def val_loss(val_loader):\n",
        "  loss = []\n",
        "  model.eval()\n",
        "  for i,result_dict in enumerate(val_loader):\n",
        "    labels = result_dict['label']\n",
        "\n",
        "    output = model(result_dict)\n",
        "\n",
        "    val_loss = loss_func(output, labels)\n",
        "\n",
        "    loss.append(val_loss)\n",
        "\n",
        "  return np.mean(loss)\n",
        "\n",
        "def accuracy_epochs(loader):\n",
        "  model.eval()\n",
        "\n",
        "  label_list = []\n",
        "\n",
        "  preds_list = []\n",
        "\n",
        "  for i,result_dict in enumerate(loader):\n",
        "\n",
        "    labels = result_dict['label']\n",
        "\n",
        "    preds = model(result_dict['token_to_ids'],result_dict['token_mask'])\n",
        "\n",
        "    label_list.append(labels)\n",
        "\n",
        "    preds_list.append(preds)\n",
        "\n",
        "  acc_epoch = accuracy_calc(label_list, preds_list)\n",
        "\n",
        "  return acc_epoch\n",
        "\n",
        "def sentimentaltrain(model,train_loader,val_loader,epochs,optimizer):\n",
        "  model.train()\n",
        "  h = {'train_loss':[],'val_loss':[],'train_acc':[],'val_acc':[]}\n",
        "\n",
        "  for epoch in range(epochs):\n",
        "    loss = []\n",
        "    for i,result_dict in enumerate(train_loader):\n",
        "      \n",
        "      token_ids = result_dict['token_to_ids'].to(device)\n",
        "\n",
        "      token_mask = result_dict['token_mask'].to(device)\n",
        "\n",
        "      labels = result_dict['label'].to(device)\n",
        "\n",
        "      output = model(token_ids,token_mask)\n",
        "\n",
        "      train_loss = loss_func(output, labels)\n",
        "\n",
        "      train_loss.backward()\n",
        "\n",
        "      optimizer.step()\n",
        "\n",
        "      optimizer.zero_grad()\n",
        "\n",
        "      loss.append(train_loss)\n",
        "\n",
        "  h['train_loss'].append(np.mean(loss))\n",
        "\n",
        "  h['val_loss'].append(val_loss(val_loader))\n",
        "\n",
        "  h['train_acc'].append(accuracy_epochs(train_loader))\n",
        "\n",
        "  h['val_acc'].append(accuracy_epochs(val_loader))\n",
        "\n",
        "  print(h)"
      ],
      "execution_count": 39,
      "outputs": []
    },
    {
      "cell_type": "code",
      "metadata": {
        "id": "0xzjCDebswic"
      },
      "source": [
        "sentimentaltrain(sentimental_model,train_loader, val_loader, 10, optimizer)"
      ],
      "execution_count": null,
      "outputs": []
    },
    {
      "cell_type": "code",
      "metadata": {
        "id": "nI3LXvT5syOV"
      },
      "source": [
        ""
      ],
      "execution_count": null,
      "outputs": []
    }
  ]
}