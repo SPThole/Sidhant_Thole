{
  "nbformat": 4,
  "nbformat_minor": 0,
  "metadata": {
    "colab": {
      "name": "text_classification_pytorch_BERT.ipynb",
      "provenance": [],
      "mount_file_id": "1DBr_UpKLGiaEr3JZIhXlMYxC-9XAqoC1",
      "authorship_tag": "ABX9TyNinhecXhHl1N9eHHgx0aTp",
      "include_colab_link": true
    },
    "kernelspec": {
      "name": "python3",
      "display_name": "Python 3"
    },
    "accelerator": "GPU",
    "widgets": {
      "application/vnd.jupyter.widget-state+json": {
        "dba82f14d4e24864839fadf130c88e8b": {
          "model_module": "@jupyter-widgets/controls",
          "model_name": "HBoxModel",
          "state": {
            "_view_name": "HBoxView",
            "_dom_classes": [],
            "_model_name": "HBoxModel",
            "_view_module": "@jupyter-widgets/controls",
            "_model_module_version": "1.5.0",
            "_view_count": null,
            "_view_module_version": "1.5.0",
            "box_style": "",
            "layout": "IPY_MODEL_299d74b6df4c442f89af091f1782690b",
            "_model_module": "@jupyter-widgets/controls",
            "children": [
              "IPY_MODEL_eeb8f2bbe45d48dc874e89cfab5443c4",
              "IPY_MODEL_fb4fea1d3b924acd96f94b467c6ec9f4"
            ]
          }
        },
        "299d74b6df4c442f89af091f1782690b": {
          "model_module": "@jupyter-widgets/base",
          "model_name": "LayoutModel",
          "state": {
            "_view_name": "LayoutView",
            "grid_template_rows": null,
            "right": null,
            "justify_content": null,
            "_view_module": "@jupyter-widgets/base",
            "overflow": null,
            "_model_module_version": "1.2.0",
            "_view_count": null,
            "flex_flow": null,
            "width": null,
            "min_width": null,
            "border": null,
            "align_items": null,
            "bottom": null,
            "_model_module": "@jupyter-widgets/base",
            "top": null,
            "grid_column": null,
            "overflow_y": null,
            "overflow_x": null,
            "grid_auto_flow": null,
            "grid_area": null,
            "grid_template_columns": null,
            "flex": null,
            "_model_name": "LayoutModel",
            "justify_items": null,
            "grid_row": null,
            "max_height": null,
            "align_content": null,
            "visibility": null,
            "align_self": null,
            "height": null,
            "min_height": null,
            "padding": null,
            "grid_auto_rows": null,
            "grid_gap": null,
            "max_width": null,
            "order": null,
            "_view_module_version": "1.2.0",
            "grid_template_areas": null,
            "object_position": null,
            "object_fit": null,
            "grid_auto_columns": null,
            "margin": null,
            "display": null,
            "left": null
          }
        },
        "eeb8f2bbe45d48dc874e89cfab5443c4": {
          "model_module": "@jupyter-widgets/controls",
          "model_name": "FloatProgressModel",
          "state": {
            "_view_name": "ProgressView",
            "style": "IPY_MODEL_fc3e7ebb3a8c487e88c77c12616dc3f4",
            "_dom_classes": [],
            "description": "100%",
            "_model_name": "FloatProgressModel",
            "bar_style": "success",
            "max": 10,
            "_view_module": "@jupyter-widgets/controls",
            "_model_module_version": "1.5.0",
            "value": 10,
            "_view_count": null,
            "_view_module_version": "1.5.0",
            "orientation": "horizontal",
            "min": 0,
            "description_tooltip": null,
            "_model_module": "@jupyter-widgets/controls",
            "layout": "IPY_MODEL_9d79b92e9c004d949b5cbd5cbb40c08f"
          }
        },
        "fb4fea1d3b924acd96f94b467c6ec9f4": {
          "model_module": "@jupyter-widgets/controls",
          "model_name": "HTMLModel",
          "state": {
            "_view_name": "HTMLView",
            "style": "IPY_MODEL_620c2953848046d88063e7c8bc08eca2",
            "_dom_classes": [],
            "description": "",
            "_model_name": "HTMLModel",
            "placeholder": "​",
            "_view_module": "@jupyter-widgets/controls",
            "_model_module_version": "1.5.0",
            "value": " 10/10 [03:35&lt;00:00, 21.55s/it]",
            "_view_count": null,
            "_view_module_version": "1.5.0",
            "description_tooltip": null,
            "_model_module": "@jupyter-widgets/controls",
            "layout": "IPY_MODEL_fbe1a2bf993f4f3c854dc18ff182dc41"
          }
        },
        "fc3e7ebb3a8c487e88c77c12616dc3f4": {
          "model_module": "@jupyter-widgets/controls",
          "model_name": "ProgressStyleModel",
          "state": {
            "_view_name": "StyleView",
            "_model_name": "ProgressStyleModel",
            "description_width": "initial",
            "_view_module": "@jupyter-widgets/base",
            "_model_module_version": "1.5.0",
            "_view_count": null,
            "_view_module_version": "1.2.0",
            "bar_color": null,
            "_model_module": "@jupyter-widgets/controls"
          }
        },
        "9d79b92e9c004d949b5cbd5cbb40c08f": {
          "model_module": "@jupyter-widgets/base",
          "model_name": "LayoutModel",
          "state": {
            "_view_name": "LayoutView",
            "grid_template_rows": null,
            "right": null,
            "justify_content": null,
            "_view_module": "@jupyter-widgets/base",
            "overflow": null,
            "_model_module_version": "1.2.0",
            "_view_count": null,
            "flex_flow": null,
            "width": null,
            "min_width": null,
            "border": null,
            "align_items": null,
            "bottom": null,
            "_model_module": "@jupyter-widgets/base",
            "top": null,
            "grid_column": null,
            "overflow_y": null,
            "overflow_x": null,
            "grid_auto_flow": null,
            "grid_area": null,
            "grid_template_columns": null,
            "flex": null,
            "_model_name": "LayoutModel",
            "justify_items": null,
            "grid_row": null,
            "max_height": null,
            "align_content": null,
            "visibility": null,
            "align_self": null,
            "height": null,
            "min_height": null,
            "padding": null,
            "grid_auto_rows": null,
            "grid_gap": null,
            "max_width": null,
            "order": null,
            "_view_module_version": "1.2.0",
            "grid_template_areas": null,
            "object_position": null,
            "object_fit": null,
            "grid_auto_columns": null,
            "margin": null,
            "display": null,
            "left": null
          }
        },
        "620c2953848046d88063e7c8bc08eca2": {
          "model_module": "@jupyter-widgets/controls",
          "model_name": "DescriptionStyleModel",
          "state": {
            "_view_name": "StyleView",
            "_model_name": "DescriptionStyleModel",
            "description_width": "",
            "_view_module": "@jupyter-widgets/base",
            "_model_module_version": "1.5.0",
            "_view_count": null,
            "_view_module_version": "1.2.0",
            "_model_module": "@jupyter-widgets/controls"
          }
        },
        "fbe1a2bf993f4f3c854dc18ff182dc41": {
          "model_module": "@jupyter-widgets/base",
          "model_name": "LayoutModel",
          "state": {
            "_view_name": "LayoutView",
            "grid_template_rows": null,
            "right": null,
            "justify_content": null,
            "_view_module": "@jupyter-widgets/base",
            "overflow": null,
            "_model_module_version": "1.2.0",
            "_view_count": null,
            "flex_flow": null,
            "width": null,
            "min_width": null,
            "border": null,
            "align_items": null,
            "bottom": null,
            "_model_module": "@jupyter-widgets/base",
            "top": null,
            "grid_column": null,
            "overflow_y": null,
            "overflow_x": null,
            "grid_auto_flow": null,
            "grid_area": null,
            "grid_template_columns": null,
            "flex": null,
            "_model_name": "LayoutModel",
            "justify_items": null,
            "grid_row": null,
            "max_height": null,
            "align_content": null,
            "visibility": null,
            "align_self": null,
            "height": null,
            "min_height": null,
            "padding": null,
            "grid_auto_rows": null,
            "grid_gap": null,
            "max_width": null,
            "order": null,
            "_view_module_version": "1.2.0",
            "grid_template_areas": null,
            "object_position": null,
            "object_fit": null,
            "grid_auto_columns": null,
            "margin": null,
            "display": null,
            "left": null
          }
        }
      }
    }
  },
  "cells": [
    {
      "cell_type": "markdown",
      "metadata": {
        "id": "view-in-github",
        "colab_type": "text"
      },
      "source": [
        "<a href=\"https://colab.research.google.com/github/SPThole/Sidhant_Thole/blob/master/text_classification_pytorch_BERT.ipynb\" target=\"_parent\"><img src=\"https://colab.research.google.com/assets/colab-badge.svg\" alt=\"Open In Colab\"/></a>"
      ]
    },
    {
      "cell_type": "code",
      "metadata": {
        "id": "pBBxIpYDxcMi",
        "outputId": "bc021b6f-8a92-4bdd-d70a-6882c7aac92a",
        "colab": {
          "base_uri": "https://localhost:8080/",
          "height": 356
        }
      },
      "source": [
        "#installing the transformers \n",
        "!pip install transformers"
      ],
      "execution_count": 37,
      "outputs": [
        {
          "output_type": "stream",
          "text": [
            "Requirement already satisfied: transformers in /usr/local/lib/python3.6/dist-packages (3.3.1)\n",
            "Requirement already satisfied: numpy in /usr/local/lib/python3.6/dist-packages (from transformers) (1.18.5)\n",
            "Requirement already satisfied: regex!=2019.12.17 in /usr/local/lib/python3.6/dist-packages (from transformers) (2019.12.20)\n",
            "Requirement already satisfied: sacremoses in /usr/local/lib/python3.6/dist-packages (from transformers) (0.0.43)\n",
            "Requirement already satisfied: tqdm>=4.27 in /usr/local/lib/python3.6/dist-packages (from transformers) (4.41.1)\n",
            "Requirement already satisfied: sentencepiece!=0.1.92 in /usr/local/lib/python3.6/dist-packages (from transformers) (0.1.91)\n",
            "Requirement already satisfied: tokenizers==0.8.1.rc2 in /usr/local/lib/python3.6/dist-packages (from transformers) (0.8.1rc2)\n",
            "Requirement already satisfied: packaging in /usr/local/lib/python3.6/dist-packages (from transformers) (20.4)\n",
            "Requirement already satisfied: filelock in /usr/local/lib/python3.6/dist-packages (from transformers) (3.0.12)\n",
            "Requirement already satisfied: requests in /usr/local/lib/python3.6/dist-packages (from transformers) (2.23.0)\n",
            "Requirement already satisfied: dataclasses; python_version < \"3.7\" in /usr/local/lib/python3.6/dist-packages (from transformers) (0.7)\n",
            "Requirement already satisfied: click in /usr/local/lib/python3.6/dist-packages (from sacremoses->transformers) (7.1.2)\n",
            "Requirement already satisfied: six in /usr/local/lib/python3.6/dist-packages (from sacremoses->transformers) (1.15.0)\n",
            "Requirement already satisfied: joblib in /usr/local/lib/python3.6/dist-packages (from sacremoses->transformers) (0.16.0)\n",
            "Requirement already satisfied: pyparsing>=2.0.2 in /usr/local/lib/python3.6/dist-packages (from packaging->transformers) (2.4.7)\n",
            "Requirement already satisfied: urllib3!=1.25.0,!=1.25.1,<1.26,>=1.21.1 in /usr/local/lib/python3.6/dist-packages (from requests->transformers) (1.24.3)\n",
            "Requirement already satisfied: idna<3,>=2.5 in /usr/local/lib/python3.6/dist-packages (from requests->transformers) (2.10)\n",
            "Requirement already satisfied: chardet<4,>=3.0.2 in /usr/local/lib/python3.6/dist-packages (from requests->transformers) (3.0.4)\n",
            "Requirement already satisfied: certifi>=2017.4.17 in /usr/local/lib/python3.6/dist-packages (from requests->transformers) (2020.6.20)\n"
          ],
          "name": "stdout"
        }
      ]
    },
    {
      "cell_type": "code",
      "metadata": {
        "id": "MMVuMkp0ouFz"
      },
      "source": [
        "#importing libraries which we might need\n",
        "import pandas as pd\n",
        "import numpy as np\n",
        "import torch\n",
        "import transformers\n",
        "from torch.utils.data import Dataset,DataLoader\n",
        "import matplotlib.pyplot as plt\n",
        "import torchtext\n",
        "import zipfile\n",
        "import os\n",
        "from transformers import BertTokenizer as BT\n",
        "from sklearn.model_selection import train_test_split\n",
        "import warnings\n",
        "import torch.nn as nn\n",
        "from tqdm.notebook import tqdm\n",
        "warnings.filterwarnings(\"ignore\")\n",
        "%matplotlib inline"
      ],
      "execution_count": 38,
      "outputs": []
    },
    {
      "cell_type": "code",
      "metadata": {
        "id": "1FUF63kDpKG8",
        "outputId": "8bf0720b-be5d-4643-9fa6-50c4e61a1fdc",
        "colab": {
          "base_uri": "https://localhost:8080/",
          "height": 34
        }
      },
      "source": [
        "#Check if we have the cuda device\n",
        "device = torch.device('cuda') if torch.cuda.is_available() else torch.device('cpu')\n",
        "print(device)"
      ],
      "execution_count": 39,
      "outputs": [
        {
          "output_type": "stream",
          "text": [
            "cuda\n"
          ],
          "name": "stdout"
        }
      ]
    },
    {
      "cell_type": "code",
      "metadata": {
        "id": "pQPepcpitwtM"
      },
      "source": [
        "#Getting the data out and taking a look at it\n",
        "data = pd.read_csv('/content/drive/My Drive/reviews.csv')"
      ],
      "execution_count": 40,
      "outputs": []
    },
    {
      "cell_type": "code",
      "metadata": {
        "id": "oHXn2fBht89A",
        "outputId": "93b4769d-de07-4424-d577-d92552e3d259",
        "colab": {
          "base_uri": "https://localhost:8080/",
          "height": 294
        }
      },
      "source": [
        "data.head(2)"
      ],
      "execution_count": 41,
      "outputs": [
        {
          "output_type": "execute_result",
          "data": {
            "text/html": [
              "<div>\n",
              "<style scoped>\n",
              "    .dataframe tbody tr th:only-of-type {\n",
              "        vertical-align: middle;\n",
              "    }\n",
              "\n",
              "    .dataframe tbody tr th {\n",
              "        vertical-align: top;\n",
              "    }\n",
              "\n",
              "    .dataframe thead th {\n",
              "        text-align: right;\n",
              "    }\n",
              "</style>\n",
              "<table border=\"1\" class=\"dataframe\">\n",
              "  <thead>\n",
              "    <tr style=\"text-align: right;\">\n",
              "      <th></th>\n",
              "      <th>reviewId</th>\n",
              "      <th>userName</th>\n",
              "      <th>userImage</th>\n",
              "      <th>content</th>\n",
              "      <th>score</th>\n",
              "      <th>thumbsUpCount</th>\n",
              "      <th>reviewCreatedVersion</th>\n",
              "      <th>at</th>\n",
              "      <th>replyContent</th>\n",
              "      <th>repliedAt</th>\n",
              "      <th>sortOrder</th>\n",
              "      <th>appId</th>\n",
              "    </tr>\n",
              "  </thead>\n",
              "  <tbody>\n",
              "    <tr>\n",
              "      <th>0</th>\n",
              "      <td>gp:AOqpTOH9y0mrXUuqulfB_d48QIXYJet79OMMr8jzm85...</td>\n",
              "      <td>John Oswald-Jacobs</td>\n",
              "      <td>https://play-lh.googleusercontent.com/-jB1fuDT...</td>\n",
              "      <td>Hopeless customer service. I paid for the prem...</td>\n",
              "      <td>1</td>\n",
              "      <td>46</td>\n",
              "      <td>5.6.0.1</td>\n",
              "      <td>2020-09-26 07:30:52</td>\n",
              "      <td>Sorry for the delay in reply! Due to adjusted ...</td>\n",
              "      <td>2020-09-27 10:50:27</td>\n",
              "      <td>most_relevant</td>\n",
              "      <td>com.anydo</td>\n",
              "    </tr>\n",
              "    <tr>\n",
              "      <th>1</th>\n",
              "      <td>gp:AOqpTOHNHm4OfbjkxEXXa51JwZEHAaDlvfSgN0OU256...</td>\n",
              "      <td>Lex S</td>\n",
              "      <td>https://play-lh.googleusercontent.com/-FgDpDeE...</td>\n",
              "      <td>I love this app, but I do have one major gripe...</td>\n",
              "      <td>1</td>\n",
              "      <td>124</td>\n",
              "      <td>5.2.0.23</td>\n",
              "      <td>2020-08-05 16:22:04</td>\n",
              "      <td>We ensured that Any.do would be fairly priced,...</td>\n",
              "      <td>2020-08-10 07:41:21</td>\n",
              "      <td>most_relevant</td>\n",
              "      <td>com.anydo</td>\n",
              "    </tr>\n",
              "  </tbody>\n",
              "</table>\n",
              "</div>"
            ],
            "text/plain": [
              "                                            reviewId  ...      appId\n",
              "0  gp:AOqpTOH9y0mrXUuqulfB_d48QIXYJet79OMMr8jzm85...  ...  com.anydo\n",
              "1  gp:AOqpTOHNHm4OfbjkxEXXa51JwZEHAaDlvfSgN0OU256...  ...  com.anydo\n",
              "\n",
              "[2 rows x 12 columns]"
            ]
          },
          "metadata": {
            "tags": []
          },
          "execution_count": 41
        }
      ]
    },
    {
      "cell_type": "code",
      "metadata": {
        "id": "JsJ-_HIB2UNo"
      },
      "source": [
        "#Getting columns out which are important for sentiment analysis\n",
        "data = data[['content','score']]"
      ],
      "execution_count": 42,
      "outputs": []
    },
    {
      "cell_type": "code",
      "metadata": {
        "id": "9SpM4Y8WH2f-"
      },
      "source": [
        "#Binning the data to get in total three scores (lower: negative , middle: Neutral (ok ok), higher: Positive)\n",
        "bins = [0.,2.,3.,5.]\n",
        "labels = [0,1,2]\n",
        "data['sentiment'] = pd.cut(data['score'], bins=bins, labels=labels)"
      ],
      "execution_count": 43,
      "outputs": []
    },
    {
      "cell_type": "code",
      "metadata": {
        "id": "1W48Q8LtH3vC",
        "outputId": "aab394d7-c57a-4b78-bd59-21dceebc4f6c",
        "colab": {
          "base_uri": "https://localhost:8080/",
          "height": 297
        }
      },
      "source": [
        "import seaborn as sns\n",
        "sns.countplot(data['sentiment'])"
      ],
      "execution_count": 44,
      "outputs": [
        {
          "output_type": "execute_result",
          "data": {
            "text/plain": [
              "<matplotlib.axes._subplots.AxesSubplot at 0x7f1547dd96d8>"
            ]
          },
          "metadata": {
            "tags": []
          },
          "execution_count": 44
        },
        {
          "output_type": "display_data",
          "data": {
            "image/png": "[encoded data removed]",
            "text/plain": [
              "<Figure size 432x288 with 1 Axes>"
            ]
          },
          "metadata": {
            "tags": [],
            "needs_background": "light"
          }
        }
      ]
    },
    {
      "cell_type": "code",
      "metadata": {
        "id": "meQBl0eNI-LX"
      },
      "source": [
        "#Lets play around the tokenizer\n",
        "text = 'well, I just like that anyway'"
      ],
      "execution_count": 45,
      "outputs": []
    },
    {
      "cell_type": "code",
      "metadata": {
        "id": "sXDqfHuULFhB"
      },
      "source": [
        "#Getting out the pretrained tokenizer for our model\n",
        "tokenizer_name = 'bert-base-uncased'\n",
        "tokenizer = BT.from_pretrained(tokenizer_name)"
      ],
      "execution_count": 46,
      "outputs": []
    },
    {
      "cell_type": "code",
      "metadata": {
        "id": "SesY3KxxLumj",
        "outputId": "17d37eb1-0bf2-4137-c8b9-d7f22ba04cf8",
        "colab": {
          "base_uri": "https://localhost:8080/",
          "height": 50
        }
      },
      "source": [
        "#lets see how it tokenize the data\n",
        "tokens_txt = tokenizer.tokenize(text)\n",
        "print(f'tokens are {tokens_txt}')\n",
        "tokens_ids = tokenizer.convert_tokens_to_ids(tokens_txt)\n",
        "print(f'ids for above tokens are {tokens_ids}')"
      ],
      "execution_count": 47,
      "outputs": [
        {
          "output_type": "stream",
          "text": [
            "tokens are ['well', ',', 'i', 'just', 'like', 'that', 'anyway']\n",
            "ids for above tokens are [2092, 1010, 1045, 2074, 2066, 2008, 4312]\n"
          ],
          "name": "stdout"
        }
      ]
    },
    {
      "cell_type": "code",
      "metadata": {
        "id": "-XCCtVhnL0YS"
      },
      "source": [
        "# Encode plus do all above thing (tokenization ,getting ids , mask, padding) for us \n",
        "encoding = tokenizer.encode_plus(\n",
        "    text = text,\n",
        "    max_length = 30,\n",
        "    truncation = True,\n",
        "    add_special_tokens = True,\n",
        "    pad_to_max_length = True,\n",
        "    return_attention_mask=True,\n",
        "    return_tensors ='pt'\n",
        ")"
      ],
      "execution_count": 48,
      "outputs": []
    },
    {
      "cell_type": "code",
      "metadata": {
        "id": "pGLHl06tL9ov",
        "outputId": "df893c59-e23c-4005-f41b-336030ae43dd",
        "colab": {
          "base_uri": "https://localhost:8080/",
          "height": 34
        }
      },
      "source": [
        "# encodings are dictionary\n",
        "type(encoding)"
      ],
      "execution_count": 49,
      "outputs": [
        {
          "output_type": "execute_result",
          "data": {
            "text/plain": [
              "transformers.tokenization_utils_base.BatchEncoding"
            ]
          },
          "metadata": {
            "tags": []
          },
          "execution_count": 49
        }
      ]
    },
    {
      "cell_type": "code",
      "metadata": {
        "id": "2afq7CthOrCZ",
        "outputId": "6c0ed4ae-3df1-4cf6-e43f-db0d9125b363",
        "colab": {
          "base_uri": "https://localhost:8080/",
          "height": 34
        }
      },
      "source": [
        "encoding.keys()"
      ],
      "execution_count": 50,
      "outputs": [
        {
          "output_type": "execute_result",
          "data": {
            "text/plain": [
              "dict_keys(['input_ids', 'token_type_ids', 'attention_mask'])"
            ]
          },
          "metadata": {
            "tags": []
          },
          "execution_count": 50
        }
      ]
    },
    {
      "cell_type": "code",
      "metadata": {
        "id": "SsxENPjUOxwH",
        "outputId": "1e7b2b4f-0652-4fdd-c13e-41d1540ea3dd",
        "colab": {
          "base_uri": "https://localhost:8080/",
          "height": 521
        }
      },
      "source": [
        "\n",
        "tokenizer.convert_ids_to_tokens(encoding['input_ids'][0])"
      ],
      "execution_count": 51,
      "outputs": [
        {
          "output_type": "execute_result",
          "data": {
            "text/plain": [
              "['[CLS]',\n",
              " 'well',\n",
              " ',',\n",
              " 'i',\n",
              " 'just',\n",
              " 'like',\n",
              " 'that',\n",
              " 'anyway',\n",
              " '[SEP]',\n",
              " '[PAD]',\n",
              " '[PAD]',\n",
              " '[PAD]',\n",
              " '[PAD]',\n",
              " '[PAD]',\n",
              " '[PAD]',\n",
              " '[PAD]',\n",
              " '[PAD]',\n",
              " '[PAD]',\n",
              " '[PAD]',\n",
              " '[PAD]',\n",
              " '[PAD]',\n",
              " '[PAD]',\n",
              " '[PAD]',\n",
              " '[PAD]',\n",
              " '[PAD]',\n",
              " '[PAD]',\n",
              " '[PAD]',\n",
              " '[PAD]',\n",
              " '[PAD]',\n",
              " '[PAD]']"
            ]
          },
          "metadata": {
            "tags": []
          },
          "execution_count": 51
        }
      ]
    },
    {
      "cell_type": "code",
      "metadata": {
        "id": "WrHOSeiXXsRm",
        "outputId": "2471cded-077b-4244-ed09-d5672dc0fede",
        "colab": {
          "base_uri": "https://localhost:8080/",
          "height": 34
        }
      },
      "source": [
        "torch.tensor([[2,3],[4,5]]).flatten()"
      ],
      "execution_count": 52,
      "outputs": [
        {
          "output_type": "execute_result",
          "data": {
            "text/plain": [
              "tensor([2, 3, 4, 5])"
            ]
          },
          "metadata": {
            "tags": []
          },
          "execution_count": 52
        }
      ]
    },
    {
      "cell_type": "code",
      "metadata": {
        "id": "kTWpYspbO2u4"
      },
      "source": [
        "class SentimentalData(Dataset):\n",
        "  def __init__(self, text_reviews, labels, max_len, tokenizer):\n",
        "    self.text = text_reviews\n",
        "    self.labels = labels\n",
        "    self.max_len = max_len\n",
        "    self.tokenizer = tokenizer\n",
        "\n",
        "  def __getitem__(self,idx):\n",
        "\n",
        "    text = self.text[idx]\n",
        "    labels = self.labels[idx]\n",
        "\n",
        "    encoder = self.tokenizer.encode_plus(\n",
        "        text = text,\n",
        "        truncation =True,\n",
        "        max_length = self.max_len,\n",
        "        add_special_tokens = True,\n",
        "        pad_to_max_length = True,\n",
        "        return_attention_mask=True,\n",
        "        return_tensors ='pt'\n",
        "        \n",
        "    )\n",
        "\n",
        "    result_dict = {\n",
        "        'text': text,\n",
        "        'token_to_ids':encoder['input_ids'].flatten(),\n",
        "        'token_mask':encoder['attention_mask'].flatten(),\n",
        "        'label': torch.tensor(labels,dtype=torch.long)\n",
        "    }\n",
        "\n",
        "    return result_dict\n",
        "\n",
        "  def __len__(self):\n",
        "    return len(self.text)\n",
        "\n",
        "\n"
      ],
      "execution_count": 53,
      "outputs": []
    },
    {
      "cell_type": "code",
      "metadata": {
        "id": "vfy4x-F_O_p9"
      },
      "source": [
        "X = data['content'].iloc[:600].values\n",
        "y = data['sentiment'].iloc[:600].values\n",
        "SEED = 2019\n",
        "\n",
        "X_train , X_test , y_train , y_test = train_test_split(X , y , test_size =0.2, random_state = SEED)\n",
        "\n",
        "X_val, X_test, y_val, y_test = train_test_split(X_test, y_test, test_size =0.2, random_state= SEED)\n",
        "\n"
      ],
      "execution_count": 54,
      "outputs": []
    },
    {
      "cell_type": "code",
      "metadata": {
        "id": "jngiqMMhZbFR"
      },
      "source": [
        "train_dataset = SentimentalData(X_train, y_train , 120, tokenizer)\n",
        "val_dataset = SentimentalData(X_val, y_val , 120, tokenizer)\n",
        "test_dataset = SentimentalData(X_test, y_test , 120, tokenizer)"
      ],
      "execution_count": 55,
      "outputs": []
    },
    {
      "cell_type": "code",
      "metadata": {
        "id": "4TOueno5basL"
      },
      "source": [
        "train_loader = DataLoader(train_dataset, batch_size= 16)\n",
        "val_loader = DataLoader(val_dataset, batch_size= 16)\n",
        "test_loader = DataLoader(test_dataset, batch_size= 16)"
      ],
      "execution_count": 56,
      "outputs": []
    },
    {
      "cell_type": "code",
      "metadata": {
        "id": "9faJbcB7dBBe",
        "outputId": "d08292cd-2aad-4924-efa1-a6b702c14c95",
        "colab": {
          "base_uri": "https://localhost:8080/",
          "height": 34
        }
      },
      "source": [
        "X_train.shape, X_val.shape, X_test.shape"
      ],
      "execution_count": 57,
      "outputs": [
        {
          "output_type": "execute_result",
          "data": {
            "text/plain": [
              "((480,), (96,), (24,))"
            ]
          },
          "metadata": {
            "tags": []
          },
          "execution_count": 57
        }
      ]
    },
    {
      "cell_type": "code",
      "metadata": {
        "id": "0xgKk5VSbfiX",
        "outputId": "28bca8a4-85fd-47ab-a619-5341553df912",
        "colab": {
          "base_uri": "https://localhost:8080/",
          "height": 34
        }
      },
      "source": [
        "next(iter(train_loader))['label']"
      ],
      "execution_count": 61,
      "outputs": [
        {
          "output_type": "execute_result",
          "data": {
            "text/plain": [
              "tensor([0, 1, 0, 0, 1, 0, 0, 1, 1, 1, 1, 1, 0, 1, 0, 0])"
            ]
          },
          "metadata": {
            "tags": []
          },
          "execution_count": 61
        }
      ]
    },
    {
      "cell_type": "code",
      "metadata": {
        "id": "Gvf323OucMjs"
      },
      "source": [
        "model = transformers.BertModel.from_pretrained('bert-base-uncased')"
      ],
      "execution_count": 63,
      "outputs": []
    },
    {
      "cell_type": "code",
      "metadata": {
        "id": "BkQMrLQChECR"
      },
      "source": [
        "last_hidden, output = model(encoding['input_ids'],encoding['attention_mask'])"
      ],
      "execution_count": 64,
      "outputs": []
    },
    {
      "cell_type": "code",
      "metadata": {
        "id": "X0C7MHWXhm24",
        "outputId": "4753a2af-3aae-4b8a-d124-f2d25c383ec4",
        "colab": {
          "base_uri": "https://localhost:8080/",
          "height": 34
        }
      },
      "source": [
        "last_hidden.shape, output.shape"
      ],
      "execution_count": 65,
      "outputs": [
        {
          "output_type": "execute_result",
          "data": {
            "text/plain": [
              "(torch.Size([1, 30, 768]), torch.Size([1, 768]))"
            ]
          },
          "metadata": {
            "tags": []
          },
          "execution_count": 65
        }
      ]
    },
    {
      "cell_type": "code",
      "metadata": {
        "id": "7_NbVjH2inZ-"
      },
      "source": [
        "class SentimentalModel(nn.Module):\n",
        "  def __init__(self,pretrained_model,num_classes):\n",
        "    super(SentimentalModel,self).__init__()\n",
        "    self.pretrained_model = pretrained_model\n",
        "    self.drop = nn.Dropout(p=0.3)\n",
        "    self.tf_layer = nn.Linear(in_features = self.pretrained_model.config.hidden_size, out_features=num_classes)\n",
        "\n",
        "  def forward(self,input_ids,token_mask):\n",
        "    _, output = self.pretrained_model(\n",
        "        input_ids = input_ids,\n",
        "        attention_mask = token_mask,\n",
        "    )\n",
        "    output = self.drop(output)\n",
        "    output = self.tf_layer(output)\n",
        "    return output\n",
        "\n",
        "    \n"
      ],
      "execution_count": 66,
      "outputs": []
    },
    {
      "cell_type": "code",
      "metadata": {
        "id": "rsg6UN16m0G4"
      },
      "source": [
        "sentimental_model = SentimentalModel(model,3).to(device)"
      ],
      "execution_count": 67,
      "outputs": []
    },
    {
      "cell_type": "code",
      "metadata": {
        "id": "bDJav5NEnLdW"
      },
      "source": [
        "loss_func = nn.CrossEntropyLoss().to(device)"
      ],
      "execution_count": 68,
      "outputs": []
    },
    {
      "cell_type": "code",
      "metadata": {
        "id": "Qnhm__g4nggG"
      },
      "source": [
        "optimizer = torch.optim.AdamW(sentimental_model.parameters(),lr=0.2e-5)"
      ],
      "execution_count": 69,
      "outputs": []
    },
    {
      "cell_type": "code",
      "metadata": {
        "id": "Mk-Gqgkzoua8"
      },
      "source": [
        ""
      ],
      "execution_count": 69,
      "outputs": []
    },
    {
      "cell_type": "code",
      "metadata": {
        "id": "TF44YQNDoYth"
      },
      "source": [
        "def sentimentaltrain(model,train_loader):\n",
        "  model = model.train()\n",
        "  loss = []\n",
        "  accs = 0\n",
        "  for i, result_dict in enumerate(train_loader):\n",
        "\n",
        "    optimizer.zero_grad()\n",
        "    \n",
        "    token_ids = result_dict['token_to_ids'].to(device)\n",
        "\n",
        "    token_mask = result_dict['token_mask'].to(device)\n",
        "\n",
        "    labels = result_dict['label'].to(device)\n",
        "\n",
        "    output = model(token_ids,token_mask)\n",
        "\n",
        "    train_loss = loss_func(output, labels)\n",
        "\n",
        "    train_loss.backward()\n",
        "\n",
        "    optimizer.step()\n",
        "    \n",
        "    loss.append(train_loss.item())\n",
        "\n",
        "    _,preds = torch.max(output,dim=1)\n",
        "\n",
        "    accs = accs + torch.sum(labels==preds)\n",
        "  print('------------------------------------------------\\n')\n",
        "  print(f'Accuracy:\\t {accs.double()/X_train.shape[0]}')\n",
        "  print(f'loss:\\t {np.mean(loss)}')\n",
        "  print('------------------------------------------------\\n')\n",
        "\n",
        "\n",
        "def model_eval(model,loader):\n",
        "  model = model.eval()\n",
        "  loss = []\n",
        "  accs = 0\n",
        "  for i, result_dict in enumerate(loader):\n",
        "    \n",
        "    token_ids = result_dict['token_to_ids'].to(device)\n",
        "\n",
        "    token_mask = result_dict['token_mask'].to(device)\n",
        "\n",
        "    labels = result_dict['label'].to(device)\n",
        "\n",
        "    output = model(token_ids,token_mask)\n",
        "\n",
        "    val_loss = loss_func(output, labels)\n",
        "\n",
        "    loss.append(val_loss.item())\n",
        "\n",
        "    _,preds = torch.max(output,dim=1)\n",
        "\n",
        "    accs = accs + torch.sum(labels==preds)\n",
        "  print('------------------------------------------------\\n')\n",
        "  print(f'Accuracy:\\t {accs.double()/X_val.shape[0]}')\n",
        "  print(f'loss:\\t {np.mean(loss)}')\n",
        "  print('------------------------------------------------\\n')\n",
        "  \n",
        "def trainer(model,epochs,train_loader,val_loader):\n",
        "  \n",
        "  for epoch in tqdm(range(epochs)):\n",
        "\n",
        "    print('---------------------------------------------\\n')\n",
        "\n",
        "    print(f'Training at epoch: {epoch}')\n",
        "\n",
        "    sentimentaltrain(model,train_loader)\n",
        "\n",
        "    print(f'Validation')\n",
        "\n",
        "    model_eval(model,val_loader)\n",
        "\n",
        "\n"
      ],
      "execution_count": 76,
      "outputs": []
    },
    {
      "cell_type": "code",
      "metadata": {
        "id": "0xzjCDebswic",
        "outputId": "cf5b71be-17fe-46d8-f069-6dd38dac3680",
        "colab": {
          "base_uri": "https://localhost:8080/",
          "height": 1000,
          "referenced_widgets": [
            "dba82f14d4e24864839fadf130c88e8b",
            "299d74b6df4c442f89af091f1782690b",
            "eeb8f2bbe45d48dc874e89cfab5443c4",
            "fb4fea1d3b924acd96f94b467c6ec9f4",
            "fc3e7ebb3a8c487e88c77c12616dc3f4",
            "9d79b92e9c004d949b5cbd5cbb40c08f",
            "620c2953848046d88063e7c8bc08eca2",
            "fbe1a2bf993f4f3c854dc18ff182dc41"
          ]
        }
      },
      "source": [
        "trainer(sentimental_model,10,train_loader,val_loader)"
      ],
      "execution_count": 77,
      "outputs": [
        {
          "output_type": "display_data",
          "data": {
            "application/vnd.jupyter.widget-view+json": {
              "model_id": "dba82f14d4e24864839fadf130c88e8b",
              "version_minor": 0,
              "version_major": 2
            },
            "text/plain": [
              "HBox(children=(FloatProgress(value=0.0, max=10.0), HTML(value='')))"
            ]
          },
          "metadata": {
            "tags": []
          }
        },
        {
          "output_type": "stream",
          "text": [
            "---------------------------------------------\n",
            "\n",
            "Training at epoch: 0\n",
            "------------------------------------------------\n",
            "\n",
            "Accuracy:\t 0.75\n",
            "loss:\t 0.5835366477568944\n",
            "------------------------------------------------\n",
            "\n",
            "Validation\n",
            "------------------------------------------------\n",
            "\n",
            "Accuracy:\t 0.6770833333333333\n",
            "loss:\t 0.6436384121576945\n",
            "------------------------------------------------\n",
            "\n",
            "---------------------------------------------\n",
            "\n",
            "Training at epoch: 1\n",
            "------------------------------------------------\n",
            "\n",
            "Accuracy:\t 0.7875\n",
            "loss:\t 0.551038466890653\n",
            "------------------------------------------------\n",
            "\n",
            "Validation\n",
            "------------------------------------------------\n",
            "\n",
            "Accuracy:\t 0.6666666666666666\n",
            "loss:\t 0.6356240461270014\n",
            "------------------------------------------------\n",
            "\n",
            "---------------------------------------------\n",
            "\n",
            "Training at epoch: 2\n",
            "------------------------------------------------\n",
            "\n",
            "Accuracy:\t 0.8020833333333334\n",
            "loss:\t 0.5235575209061305\n",
            "------------------------------------------------\n",
            "\n",
            "Validation\n",
            "------------------------------------------------\n",
            "\n",
            "Accuracy:\t 0.7291666666666666\n",
            "loss:\t 0.6185169667005539\n",
            "------------------------------------------------\n",
            "\n",
            "---------------------------------------------\n",
            "\n",
            "Training at epoch: 3\n",
            "------------------------------------------------\n",
            "\n",
            "Accuracy:\t 0.8375\n",
            "loss:\t 0.4825571537017822\n",
            "------------------------------------------------\n",
            "\n",
            "Validation\n",
            "------------------------------------------------\n",
            "\n",
            "Accuracy:\t 0.71875\n",
            "loss:\t 0.6053223262230555\n",
            "------------------------------------------------\n",
            "\n",
            "---------------------------------------------\n",
            "\n",
            "Training at epoch: 4\n",
            "------------------------------------------------\n",
            "\n",
            "Accuracy:\t 0.8458333333333333\n",
            "loss:\t 0.4718821595112483\n",
            "------------------------------------------------\n",
            "\n",
            "Validation\n",
            "------------------------------------------------\n",
            "\n",
            "Accuracy:\t 0.7395833333333333\n",
            "loss:\t 0.598457396030426\n",
            "------------------------------------------------\n",
            "\n",
            "---------------------------------------------\n",
            "\n",
            "Training at epoch: 5\n",
            "------------------------------------------------\n",
            "\n",
            "Accuracy:\t 0.875\n",
            "loss:\t 0.4344228158394496\n",
            "------------------------------------------------\n",
            "\n",
            "Validation\n",
            "------------------------------------------------\n",
            "\n",
            "Accuracy:\t 0.7395833333333333\n",
            "loss:\t 0.5911477555831274\n",
            "------------------------------------------------\n",
            "\n",
            "---------------------------------------------\n",
            "\n",
            "Training at epoch: 6\n",
            "------------------------------------------------\n",
            "\n",
            "Accuracy:\t 0.9083333333333333\n",
            "loss:\t 0.40376479625701905\n",
            "------------------------------------------------\n",
            "\n",
            "Validation\n",
            "------------------------------------------------\n",
            "\n",
            "Accuracy:\t 0.71875\n",
            "loss:\t 0.5946731418371201\n",
            "------------------------------------------------\n",
            "\n",
            "---------------------------------------------\n",
            "\n",
            "Training at epoch: 7\n",
            "------------------------------------------------\n",
            "\n",
            "Accuracy:\t 0.9041666666666667\n",
            "loss:\t 0.3892306456963221\n",
            "------------------------------------------------\n",
            "\n",
            "Validation\n",
            "------------------------------------------------\n",
            "\n",
            "Accuracy:\t 0.7395833333333333\n",
            "loss:\t 0.5891247193018595\n",
            "------------------------------------------------\n",
            "\n",
            "---------------------------------------------\n",
            "\n",
            "Training at epoch: 8\n",
            "------------------------------------------------\n",
            "\n",
            "Accuracy:\t 0.9208333333333333\n",
            "loss:\t 0.37015701582034427\n",
            "------------------------------------------------\n",
            "\n",
            "Validation\n",
            "------------------------------------------------\n",
            "\n",
            "Accuracy:\t 0.7291666666666666\n",
            "loss:\t 0.5850340823332468\n",
            "------------------------------------------------\n",
            "\n",
            "---------------------------------------------\n",
            "\n",
            "Training at epoch: 9\n",
            "------------------------------------------------\n",
            "\n",
            "Accuracy:\t 0.9270833333333334\n",
            "loss:\t 0.34943984101215997\n",
            "------------------------------------------------\n",
            "\n",
            "Validation\n",
            "------------------------------------------------\n",
            "\n",
            "Accuracy:\t 0.75\n",
            "loss:\t 0.5809463659922282\n",
            "------------------------------------------------\n",
            "\n",
            "\n"
          ],
          "name": "stdout"
        }
      ]
    },
    {
      "cell_type": "code",
      "metadata": {
        "id": "nI3LXvT5syOV"
      },
      "source": [
        "l"
      ],
      "execution_count": null,
      "outputs": []
    },
    {
      "cell_type": "code",
      "metadata": {
        "id": "y0Q2U1lJGXPK"
      },
      "source": [
        ""
      ],
      "execution_count": null,
      "outputs": []
    }
  ]
}